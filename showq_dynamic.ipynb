{
 "cells": [
  {
   "cell_type": "markdown",
   "metadata": {},
   "source": [
    "# showq dynamic analysis"
   ]
  },
  {
   "cell_type": "markdown",
   "metadata": {},
   "source": [
    "## Preprocessing"
   ]
  },
  {
   "cell_type": "markdown",
   "metadata": {},
   "source": [
    "The output of Adaptive Computing Moab `showq` command has to be preprocessed by `scripts/showq2csv.py`. It will create a CSV file that can be imported by pandas."
   ]
  },
  {
   "cell_type": "markdown",
   "metadata": {},
   "source": [
    "## Prerequisites"
   ]
  },
  {
   "cell_type": "markdown",
   "metadata": {},
   "source": [
    "Import required modules."
   ]
  },
  {
   "cell_type": "code",
   "execution_count": 32,
   "metadata": {},
   "outputs": [],
   "source": [
    "import matplotlib.pyplot as plt\n",
    "import pandas as pd\n",
    "from pathlib import Path"
   ]
  },
  {
   "cell_type": "code",
   "execution_count": 2,
   "metadata": {},
   "outputs": [],
   "source": [
    "%matplotlib inline"
   ]
  },
  {
   "cell_type": "markdown",
   "metadata": {},
   "source": [
    "Ensure that modules are reloaded automatically when modified."
   ]
  },
  {
   "cell_type": "code",
   "execution_count": 3,
   "metadata": {},
   "outputs": [],
   "source": [
    "%load_ext autoreload\n",
    "%autoreload 2"
   ]
  },
  {
   "cell_type": "code",
   "execution_count": 114,
   "metadata": {},
   "outputs": [],
   "source": [
    "from lib.vsc.moab.nb_utils import extract_category\n",
    "from lib.vsc.moab.metrics import (started_jobs, finished_jobs, new_jobs, moved_jobs, state_distribution,\n",
    "                                  showq_timeseries)"
   ]
  },
  {
   "cell_type": "markdown",
   "metadata": {},
   "source": [
    "## Analysis"
   ]
  },
  {
   "cell_type": "markdown",
   "metadata": {},
   "source": [
    "Load the current and the previous showq data."
   ]
  },
  {
   "cell_type": "code",
   "execution_count": 5,
   "metadata": {},
   "outputs": [],
   "source": [
    "curr_df = pd.read_csv('data/showq_1528968510.csv', parse_dates=['time_stamp', 'datetime'])"
   ]
  },
  {
   "cell_type": "code",
   "execution_count": 6,
   "metadata": {},
   "outputs": [],
   "source": [
    "prev_df = pd.read_csv('data/showq_1528967910.csv', parse_dates=['time_stamp', 'datetime'])"
   ]
  },
  {
   "cell_type": "markdown",
   "metadata": {},
   "source": [
    "Which jobs have started since the last showq epoch? These are the jobs that are currently active, and were previously either idle or blocked."
   ]
  },
  {
   "cell_type": "code",
   "execution_count": 7,
   "metadata": {},
   "outputs": [],
   "source": [
    "curr_running_df = extract_category(curr_df, 'ActiveJob')"
   ]
  },
  {
   "cell_type": "code",
   "execution_count": 8,
   "metadata": {},
   "outputs": [],
   "source": [
    "prev_idle_df = extract_category(prev_df, 'EligibleJob')"
   ]
  },
  {
   "cell_type": "code",
   "execution_count": 9,
   "metadata": {},
   "outputs": [],
   "source": [
    "prev_blocked_df = extract_category(prev_df, 'BlockedJob')"
   ]
  },
  {
   "cell_type": "code",
   "execution_count": 28,
   "metadata": {},
   "outputs": [
    {
     "data": {
      "text/html": [
       "<div>\n",
       "<style scoped>\n",
       "    .dataframe tbody tr th:only-of-type {\n",
       "        vertical-align: middle;\n",
       "    }\n",
       "\n",
       "    .dataframe tbody tr th {\n",
       "        vertical-align: top;\n",
       "    }\n",
       "\n",
       "    .dataframe thead th {\n",
       "        text-align: right;\n",
       "    }\n",
       "</style>\n",
       "<table border=\"1\" class=\"dataframe\">\n",
       "  <thead>\n",
       "    <tr style=\"text-align: right;\">\n",
       "      <th></th>\n",
       "      <th>category</th>\n",
       "      <th>time_stamp</th>\n",
       "      <th>job_id</th>\n",
       "      <th>user_id</th>\n",
       "      <th>state</th>\n",
       "      <th>procs</th>\n",
       "      <th>remaining</th>\n",
       "      <th>start_time</th>\n",
       "      <th>walltime_limit</th>\n",
       "    </tr>\n",
       "  </thead>\n",
       "  <tbody>\n",
       "    <tr>\n",
       "      <th>0</th>\n",
       "      <td>ActiveJob</td>\n",
       "      <td>2018-06-14 11:28:30</td>\n",
       "      <td>20842191</td>\n",
       "      <td>vsc31821</td>\n",
       "      <td>Running</td>\n",
       "      <td>20</td>\n",
       "      <td>35429</td>\n",
       "      <td>2018-06-14 11:19:22</td>\n",
       "      <td>35977.0</td>\n",
       "    </tr>\n",
       "    <tr>\n",
       "      <th>1</th>\n",
       "      <td>ActiveJob</td>\n",
       "      <td>2018-06-14 11:28:30</td>\n",
       "      <td>20842195</td>\n",
       "      <td>vsc31835</td>\n",
       "      <td>Running</td>\n",
       "      <td>80</td>\n",
       "      <td>172601</td>\n",
       "      <td>2018-06-14 11:25:34</td>\n",
       "      <td>172777.0</td>\n",
       "    </tr>\n",
       "  </tbody>\n",
       "</table>\n",
       "</div>"
      ],
      "text/plain": [
       "    category          time_stamp    job_id   user_id    state  procs  \\\n",
       "0  ActiveJob 2018-06-14 11:28:30  20842191  vsc31821  Running     20   \n",
       "1  ActiveJob 2018-06-14 11:28:30  20842195  vsc31835  Running     80   \n",
       "\n",
       "   remaining          start_time  walltime_limit  \n",
       "0      35429 2018-06-14 11:19:22         35977.0  \n",
       "1     172601 2018-06-14 11:25:34        172777.0  "
      ]
     },
     "execution_count": 28,
     "metadata": {},
     "output_type": "execute_result"
    }
   ],
   "source": [
    "started_df = started_jobs(curr_running=curr_running_df, prev_idle=prev_idle_df, prev_blocked=prev_blocked_df)\n",
    "started_df"
   ]
  },
  {
   "cell_type": "markdown",
   "metadata": {},
   "source": [
    "So two jobs that were idle are now running. Which jobs were blocked and are now running?"
   ]
  },
  {
   "cell_type": "markdown",
   "metadata": {},
   "source": [
    "Which jobs were idle, and are now blocked?"
   ]
  },
  {
   "cell_type": "code",
   "execution_count": 30,
   "metadata": {},
   "outputs": [],
   "source": [
    "curr_blocked_df = extract_category(curr_df, 'BlockedJob')"
   ]
  },
  {
   "cell_type": "code",
   "execution_count": 31,
   "metadata": {
    "scrolled": true
   },
   "outputs": [
    {
     "data": {
      "text/html": [
       "<div>\n",
       "<style scoped>\n",
       "    .dataframe tbody tr th:only-of-type {\n",
       "        vertical-align: middle;\n",
       "    }\n",
       "\n",
       "    .dataframe tbody tr th {\n",
       "        vertical-align: top;\n",
       "    }\n",
       "\n",
       "    .dataframe thead th {\n",
       "        text-align: right;\n",
       "    }\n",
       "</style>\n",
       "<table border=\"1\" class=\"dataframe\">\n",
       "  <thead>\n",
       "    <tr style=\"text-align: right;\">\n",
       "      <th></th>\n",
       "      <th>category</th>\n",
       "      <th>time_stamp</th>\n",
       "      <th>job_id</th>\n",
       "      <th>user_id</th>\n",
       "      <th>state</th>\n",
       "      <th>procs</th>\n",
       "      <th>walltime_limit</th>\n",
       "      <th>queue_time</th>\n",
       "      <th>time_in_queue</th>\n",
       "    </tr>\n",
       "  </thead>\n",
       "  <tbody>\n",
       "  </tbody>\n",
       "</table>\n",
       "</div>"
      ],
      "text/plain": [
       "Empty DataFrame\n",
       "Columns: [category, time_stamp, job_id, user_id, state, procs, walltime_limit, queue_time, time_in_queue]\n",
       "Index: []"
      ]
     },
     "execution_count": 31,
     "metadata": {},
     "output_type": "execute_result"
    }
   ],
   "source": [
    "moved_jobs(from_cat=prev_idle_df, to_cat=curr_blocked_df)"
   ]
  },
  {
   "cell_type": "markdown",
   "metadata": {},
   "source": [
    "How many jobs are idle now, and how many were idle in the previous epoch?"
   ]
  },
  {
   "cell_type": "code",
   "execution_count": 12,
   "metadata": {},
   "outputs": [],
   "source": [
    "curr_idle_df = extract_category(curr_df, 'EligibleJob')"
   ]
  },
  {
   "cell_type": "code",
   "execution_count": 14,
   "metadata": {},
   "outputs": [
    {
     "data": {
      "text/plain": [
       "(116, 117)"
      ]
     },
     "execution_count": 14,
     "metadata": {},
     "output_type": "execute_result"
    }
   ],
   "source": [
    "curr_idle_df.job_id.count(), prev_idle_df.job_id.count()"
   ]
  },
  {
   "cell_type": "markdown",
   "metadata": {},
   "source": [
    "## Time series"
   ]
  },
  {
   "cell_type": "markdown",
   "metadata": {},
   "source": [
    "Analyze the state of jobs as a time series. The simplest representation is the number of jobs in a given state as a function of time."
   ]
  },
  {
   "cell_type": "code",
   "execution_count": 111,
   "metadata": {},
   "outputs": [],
   "source": [
    "directory = Path.cwd() / 'data'\n",
    "pattern = 'showq_*.csv'\n",
    "queue_timeseries = showq_timeseries(directory, pattern)"
   ]
  },
  {
   "cell_type": "code",
   "execution_count": 113,
   "metadata": {
    "scrolled": false
   },
   "outputs": [
    {
     "data": {
      "image/png": "[encoded data removed]",
      "text/plain": [
       "<Figure size 432x288 with 1 Axes>"
      ]
     },
     "metadata": {},
     "output_type": "display_data"
    }
   ],
   "source": [
    "queue_timeseries.plot();"
   ]
  },
  {
   "cell_type": "code",
   "execution_count": 124,
   "metadata": {
    "scrolled": true
   },
   "outputs": [],
   "source": [
    "file_names = list(directory.glob(pattern))\n",
    "prev_df = pd.read_csv(file_names.pop(0))\n",
    "prev_running_df = extract_category(prev_df, 'AcitveJob')\n",
    "prev_idle_df = extract_category(prev_df, 'EligibleJob')\n",
    "prev_blocked_df = extract_category(prev_df, 'BlockedJob')\n",
    "index = list()\n",
    "data = {\n",
    "    'started': list(),\n",
    "    'finished': list(),\n",
    "}\n",
    "for file_name in directory.glob(pattern):\n",
    "    curr_df = pd.read_csv(file_name)\n",
    "    index.append(get_time_stamp(curr_df))\n",
    "    curr_running_df = extract_category(curr_df, 'ActiveJob')\n",
    "    started_df = started_jobs(curr_running=curr_running_df, prev_idle=prev_idle_df,\n",
    "                              prev_blocked=prev_blocked_df)\n",
    "    finished_df = finished_jobs(prev_running=prev_running_df, curr=curr_df)\n",
    "    data['started'].append(len(started_df))\n",
    "    data['finished'].append(-len(finished_df))\n",
    "    prev_df = curr_df\n",
    "    prev_running_df = curr_running_df\n",
    "    prev_idle_df = extract_category(prev_df, 'EligibleJob')\n",
    "    prev_blocked_df = extract_category(prev_df, 'BlockedJob')\n",
    "diff_df = pd.DataFrame(data, index=index)\n",
    "diff_df.sort_index(inplace=True)"
   ]
  },
  {
   "cell_type": "code",
   "execution_count": 125,
   "metadata": {},
   "outputs": [
    {
     "data": {
      "text/html": [
       "<div>\n",
       "<style scoped>\n",
       "    .dataframe tbody tr th:only-of-type {\n",
       "        vertical-align: middle;\n",
       "    }\n",
       "\n",
       "    .dataframe tbody tr th {\n",
       "        vertical-align: top;\n",
       "    }\n",
       "\n",
       "    .dataframe thead th {\n",
       "        text-align: right;\n",
       "    }\n",
       "</style>\n",
       "<table border=\"1\" class=\"dataframe\">\n",
       "  <thead>\n",
       "    <tr style=\"text-align: right;\">\n",
       "      <th></th>\n",
       "      <th>started</th>\n",
       "      <th>finished</th>\n",
       "    </tr>\n",
       "  </thead>\n",
       "  <tbody>\n",
       "    <tr>\n",
       "      <th>2018-06-14 11:18:30</th>\n",
       "      <td>0</td>\n",
       "      <td>-6</td>\n",
       "    </tr>\n",
       "    <tr>\n",
       "      <th>2018-06-14 11:28:30</th>\n",
       "      <td>0</td>\n",
       "      <td>-27</td>\n",
       "    </tr>\n",
       "    <tr>\n",
       "      <th>2018-06-14 11:38:31</th>\n",
       "      <td>0</td>\n",
       "      <td>-36</td>\n",
       "    </tr>\n",
       "    <tr>\n",
       "      <th>2018-06-14 11:48:31</th>\n",
       "      <td>1</td>\n",
       "      <td>-8</td>\n",
       "    </tr>\n",
       "    <tr>\n",
       "      <th>2018-06-14 11:58:31</th>\n",
       "      <td>0</td>\n",
       "      <td>-22</td>\n",
       "    </tr>\n",
       "    <tr>\n",
       "      <th>2018-06-14 12:08:32</th>\n",
       "      <td>0</td>\n",
       "      <td>-20</td>\n",
       "    </tr>\n",
       "    <tr>\n",
       "      <th>2018-06-14 12:18:32</th>\n",
       "      <td>0</td>\n",
       "      <td>-52</td>\n",
       "    </tr>\n",
       "    <tr>\n",
       "      <th>2018-06-14 12:28:32</th>\n",
       "      <td>6</td>\n",
       "      <td>-10</td>\n",
       "    </tr>\n",
       "    <tr>\n",
       "      <th>2018-06-14 12:38:32</th>\n",
       "      <td>0</td>\n",
       "      <td>-7</td>\n",
       "    </tr>\n",
       "    <tr>\n",
       "      <th>2018-06-14 12:48:32</th>\n",
       "      <td>2</td>\n",
       "      <td>-2</td>\n",
       "    </tr>\n",
       "  </tbody>\n",
       "</table>\n",
       "</div>"
      ],
      "text/plain": [
       "                     started  finished\n",
       "2018-06-14 11:18:30        0        -6\n",
       "2018-06-14 11:28:30        0       -27\n",
       "2018-06-14 11:38:31        0       -36\n",
       "2018-06-14 11:48:31        1        -8\n",
       "2018-06-14 11:58:31        0       -22\n",
       "2018-06-14 12:08:32        0       -20\n",
       "2018-06-14 12:18:32        0       -52\n",
       "2018-06-14 12:28:32        6       -10\n",
       "2018-06-14 12:38:32        0        -7\n",
       "2018-06-14 12:48:32        2        -2"
      ]
     },
     "execution_count": 125,
     "metadata": {},
     "output_type": "execute_result"
    }
   ],
   "source": [
    "diff_df.head(10)"
   ]
  },
  {
   "cell_type": "code",
   "execution_count": 129,
   "metadata": {},
   "outputs": [
    {
     "data": {
      "image/png": "[encoded data removed]",
      "text/plain": [
       "<Figure size 432x288 with 1 Axes>"
      ]
     },
     "metadata": {},
     "output_type": "display_data"
    }
   ],
   "source": [
    "diff_df.plot(kind='bar');"
   ]
  },
  {
   "cell_type": "code",
   "execution_count": null,
   "metadata": {},
   "outputs": [],
   "source": []
  }
 ],
 "metadata": {
  "kernelspec": {
   "display_name": "Python 3",
   "language": "python",
   "name": "python3"
  },
  "language_info": {
   "codemirror_mode": {
    "name": "ipython",
    "version": 3
   },
   "file_extension": ".py",
   "mimetype": "text/x-python",
   "name": "python",
   "nbconvert_exporter": "python",
   "pygments_lexer": "ipython3",
   "version": "3.6.5"
  }
 },
 "nbformat": 4,
 "nbformat_minor": 2
}
