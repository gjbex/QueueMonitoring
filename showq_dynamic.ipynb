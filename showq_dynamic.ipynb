{
 "cells": [
  {
   "cell_type": "markdown",
   "metadata": {},
   "source": [
    "# showq dynamic analysis"
   ]
  },
  {
   "cell_type": "markdown",
   "metadata": {},
   "source": [
    "## Preprocessing"
   ]
  },
  {
   "cell_type": "markdown",
   "metadata": {},
   "source": [
    "The output of Adaptive Computing Moab `showq` command has to be preprocessed by `scripts/showq2csv.py`. It will create a CSV file that can be imported by pandas."
   ]
  },
  {
   "cell_type": "markdown",
   "metadata": {},
   "source": [
    "## Prerequisites"
   ]
  },
  {
   "cell_type": "markdown",
   "metadata": {},
   "source": [
    "Import required modules."
   ]
  },
  {
   "cell_type": "code",
   "execution_count": 1,
   "metadata": {},
   "outputs": [],
   "source": [
    "import matplotlib.pyplot as plt\n",
    "import pandas as pd"
   ]
  },
  {
   "cell_type": "code",
   "execution_count": 2,
   "metadata": {},
   "outputs": [],
   "source": [
    "%matplotlib inline"
   ]
  },
  {
   "cell_type": "markdown",
   "metadata": {},
   "source": [
    "Ensure that modules are reloaded automatically when modified."
   ]
  },
  {
   "cell_type": "code",
   "execution_count": 3,
   "metadata": {},
   "outputs": [],
   "source": [
    "%load_ext autoreload\n",
    "%autoreload 2"
   ]
  },
  {
   "cell_type": "code",
   "execution_count": 4,
   "metadata": {},
   "outputs": [],
   "source": [
    "from lib.vsc.moab.nb_utils import extract_category"
   ]
  },
  {
   "cell_type": "markdown",
   "metadata": {},
   "source": [
    "## Analysis"
   ]
  },
  {
   "cell_type": "markdown",
   "metadata": {},
   "source": [
    "Load the current and the previous showq data."
   ]
  },
  {
   "cell_type": "code",
   "execution_count": 5,
   "metadata": {},
   "outputs": [],
   "source": [
    "curr_df = pd.read_csv('data/showq_1528968510.csv', parse_dates=['time_stamp', 'datetime'])"
   ]
  },
  {
   "cell_type": "code",
   "execution_count": 6,
   "metadata": {},
   "outputs": [],
   "source": [
    "prev_df = pd.read_csv('data/showq_1528967910.csv', parse_dates=['time_stamp', 'datetime'])"
   ]
  },
  {
   "cell_type": "markdown",
   "metadata": {},
   "source": [
    "Which jobs have started since the last showq epoch? These are the jobs that are currently active, and were previously either idle or blocked."
   ]
  },
  {
   "cell_type": "code",
   "execution_count": 7,
   "metadata": {},
   "outputs": [],
   "source": [
    "curr_running_df = extract_category(curr_df, 'ActiveJob')"
   ]
  },
  {
   "cell_type": "code",
   "execution_count": 8,
   "metadata": {},
   "outputs": [],
   "source": [
    "prev_idle_df = extract_category(prev_df, 'EligibleJob')"
   ]
  },
  {
   "cell_type": "code",
   "execution_count": 9,
   "metadata": {},
   "outputs": [],
   "source": [
    "prev_blocked_df = extract_category(prev_df, 'BlockedJob')"
   ]
  },
  {
   "cell_type": "code",
   "execution_count": 10,
   "metadata": {},
   "outputs": [
    {
     "data": {
      "text/html": [
       "<div>\n",
       "<style scoped>\n",
       "    .dataframe tbody tr th:only-of-type {\n",
       "        vertical-align: middle;\n",
       "    }\n",
       "\n",
       "    .dataframe tbody tr th {\n",
       "        vertical-align: top;\n",
       "    }\n",
       "\n",
       "    .dataframe thead th {\n",
       "        text-align: right;\n",
       "    }\n",
       "</style>\n",
       "<table border=\"1\" class=\"dataframe\">\n",
       "  <thead>\n",
       "    <tr style=\"text-align: right;\">\n",
       "      <th></th>\n",
       "      <th>category</th>\n",
       "      <th>time_stamp</th>\n",
       "      <th>job_id</th>\n",
       "      <th>user_id</th>\n",
       "      <th>state</th>\n",
       "      <th>procs</th>\n",
       "      <th>remaining</th>\n",
       "      <th>start_time</th>\n",
       "      <th>walltime_limit</th>\n",
       "    </tr>\n",
       "  </thead>\n",
       "  <tbody>\n",
       "    <tr>\n",
       "      <th>0</th>\n",
       "      <td>ActiveJob</td>\n",
       "      <td>2018-06-14 11:28:30</td>\n",
       "      <td>20842191</td>\n",
       "      <td>vsc31821</td>\n",
       "      <td>Running</td>\n",
       "      <td>20</td>\n",
       "      <td>35429</td>\n",
       "      <td>2018-06-14 11:19:22</td>\n",
       "      <td>35977.0</td>\n",
       "    </tr>\n",
       "    <tr>\n",
       "      <th>1</th>\n",
       "      <td>ActiveJob</td>\n",
       "      <td>2018-06-14 11:28:30</td>\n",
       "      <td>20842195</td>\n",
       "      <td>vsc31835</td>\n",
       "      <td>Running</td>\n",
       "      <td>80</td>\n",
       "      <td>172601</td>\n",
       "      <td>2018-06-14 11:25:34</td>\n",
       "      <td>172777.0</td>\n",
       "    </tr>\n",
       "  </tbody>\n",
       "</table>\n",
       "</div>"
      ],
      "text/plain": [
       "    category          time_stamp    job_id   user_id    state  procs  \\\n",
       "0  ActiveJob 2018-06-14 11:28:30  20842191  vsc31821  Running     20   \n",
       "1  ActiveJob 2018-06-14 11:28:30  20842195  vsc31835  Running     80   \n",
       "\n",
       "   remaining          start_time  walltime_limit  \n",
       "0      35429 2018-06-14 11:19:22         35977.0  \n",
       "1     172601 2018-06-14 11:25:34        172777.0  "
      ]
     },
     "execution_count": 10,
     "metadata": {},
     "output_type": "execute_result"
    }
   ],
   "source": [
    "curr_running_df.merge(prev_idle_df, on='job_id', how='inner', suffixes=('', '_prev'))[curr_running_df.columns]"
   ]
  },
  {
   "cell_type": "markdown",
   "metadata": {},
   "source": [
    "So two jobs that were idle are now running. Which jobs were blocked and are now running?"
   ]
  },
  {
   "cell_type": "code",
   "execution_count": 11,
   "metadata": {},
   "outputs": [
    {
     "data": {
      "text/html": [
       "<div>\n",
       "<style scoped>\n",
       "    .dataframe tbody tr th:only-of-type {\n",
       "        vertical-align: middle;\n",
       "    }\n",
       "\n",
       "    .dataframe tbody tr th {\n",
       "        vertical-align: top;\n",
       "    }\n",
       "\n",
       "    .dataframe thead th {\n",
       "        text-align: right;\n",
       "    }\n",
       "</style>\n",
       "<table border=\"1\" class=\"dataframe\">\n",
       "  <thead>\n",
       "    <tr style=\"text-align: right;\">\n",
       "      <th></th>\n",
       "      <th>category</th>\n",
       "      <th>time_stamp</th>\n",
       "      <th>job_id</th>\n",
       "      <th>user_id</th>\n",
       "      <th>state</th>\n",
       "      <th>procs</th>\n",
       "      <th>remaining</th>\n",
       "      <th>start_time</th>\n",
       "      <th>walltime_limit</th>\n",
       "    </tr>\n",
       "  </thead>\n",
       "  <tbody>\n",
       "  </tbody>\n",
       "</table>\n",
       "</div>"
      ],
      "text/plain": [
       "Empty DataFrame\n",
       "Columns: [category, time_stamp, job_id, user_id, state, procs, remaining, start_time, walltime_limit]\n",
       "Index: []"
      ]
     },
     "execution_count": 11,
     "metadata": {},
     "output_type": "execute_result"
    }
   ],
   "source": [
    "curr_running_df.merge(prev_blocked_df, on='job_id', how='inner', suffixes=('', '_prev'))[curr_running_df.columns]"
   ]
  },
  {
   "cell_type": "markdown",
   "metadata": {},
   "source": [
    "Which jobs were idle, and are now blocked?"
   ]
  },
  {
   "cell_type": "code",
   "execution_count": 12,
   "metadata": {},
   "outputs": [],
   "source": [
    "curr_idle_df = extract_category(curr_df, 'EligibleJob')"
   ]
  },
  {
   "cell_type": "code",
   "execution_count": 13,
   "metadata": {
    "scrolled": true
   },
   "outputs": [
    {
     "data": {
      "text/html": [
       "<div>\n",
       "<style scoped>\n",
       "    .dataframe tbody tr th:only-of-type {\n",
       "        vertical-align: middle;\n",
       "    }\n",
       "\n",
       "    .dataframe tbody tr th {\n",
       "        vertical-align: top;\n",
       "    }\n",
       "\n",
       "    .dataframe thead th {\n",
       "        text-align: right;\n",
       "    }\n",
       "</style>\n",
       "<table border=\"1\" class=\"dataframe\">\n",
       "  <thead>\n",
       "    <tr style=\"text-align: right;\">\n",
       "      <th></th>\n",
       "      <th>category</th>\n",
       "      <th>time_stamp</th>\n",
       "      <th>job_id</th>\n",
       "      <th>user_id</th>\n",
       "      <th>state</th>\n",
       "      <th>procs</th>\n",
       "      <th>walltime_limit</th>\n",
       "      <th>queue_time</th>\n",
       "      <th>time_in_queue</th>\n",
       "    </tr>\n",
       "  </thead>\n",
       "  <tbody>\n",
       "  </tbody>\n",
       "</table>\n",
       "</div>"
      ],
      "text/plain": [
       "Empty DataFrame\n",
       "Columns: [category, time_stamp, job_id, user_id, state, procs, walltime_limit, queue_time, time_in_queue]\n",
       "Index: []"
      ]
     },
     "execution_count": 13,
     "metadata": {},
     "output_type": "execute_result"
    }
   ],
   "source": [
    "curr_idle_df.merge(prev_blocked_df, on='job_id', how='inner', suffixes=('', '_prev'))[curr_idle_df.columns]"
   ]
  },
  {
   "cell_type": "markdown",
   "metadata": {},
   "source": [
    "How many jobs are idle, and how many were idle in the previous epoch?"
   ]
  },
  {
   "cell_type": "code",
   "execution_count": 15,
   "metadata": {},
   "outputs": [
    {
     "data": {
      "text/plain": [
       "(116, 117)"
      ]
     },
     "execution_count": 15,
     "metadata": {},
     "output_type": "execute_result"
    }
   ],
   "source": [
    "curr_idle_df.job_id.count(), prev_idle_df.job_id.count()"
   ]
  },
  {
   "cell_type": "code",
   "execution_count": 16,
   "metadata": {},
   "outputs": [],
   "source": [
    "prev_inactive_df = pd.concat((prev_idle_df, prev_blocked_df), ignore_index=True)"
   ]
  },
  {
   "cell_type": "code",
   "execution_count": 17,
   "metadata": {},
   "outputs": [
    {
     "name": "stdout",
     "output_type": "stream",
     "text": [
      "<class 'pandas.core.frame.DataFrame'>\n",
      "RangeIndex: 197 entries, 0 to 196\n",
      "Data columns (total 9 columns):\n",
      "category          197 non-null object\n",
      "time_stamp        197 non-null datetime64[ns]\n",
      "job_id            197 non-null object\n",
      "user_id           197 non-null object\n",
      "state             197 non-null object\n",
      "procs             197 non-null int64\n",
      "walltime_limit    197 non-null int64\n",
      "queue_time        197 non-null datetime64[ns]\n",
      "time_in_queue     197 non-null float64\n",
      "dtypes: datetime64[ns](2), float64(1), int64(2), object(4)\n",
      "memory usage: 13.9+ KB\n"
     ]
    }
   ],
   "source": [
    "prev_inactive_df.info()"
   ]
  },
  {
   "cell_type": "code",
   "execution_count": 18,
   "metadata": {},
   "outputs": [
    {
     "data": {
      "text/html": [
       "<div>\n",
       "<style scoped>\n",
       "    .dataframe tbody tr th:only-of-type {\n",
       "        vertical-align: middle;\n",
       "    }\n",
       "\n",
       "    .dataframe tbody tr th {\n",
       "        vertical-align: top;\n",
       "    }\n",
       "\n",
       "    .dataframe thead th {\n",
       "        text-align: right;\n",
       "    }\n",
       "</style>\n",
       "<table border=\"1\" class=\"dataframe\">\n",
       "  <thead>\n",
       "    <tr style=\"text-align: right;\">\n",
       "      <th></th>\n",
       "      <th>category</th>\n",
       "      <th>time_stamp</th>\n",
       "      <th>job_id</th>\n",
       "      <th>user_id</th>\n",
       "      <th>state</th>\n",
       "      <th>procs</th>\n",
       "      <th>walltime_limit</th>\n",
       "      <th>queue_time</th>\n",
       "      <th>time_in_queue</th>\n",
       "    </tr>\n",
       "  </thead>\n",
       "  <tbody>\n",
       "    <tr>\n",
       "      <th>192</th>\n",
       "      <td>BlockedJob</td>\n",
       "      <td>2018-06-14 11:18:30</td>\n",
       "      <td>20840637</td>\n",
       "      <td>vsc31179</td>\n",
       "      <td>BatchHold</td>\n",
       "      <td>20</td>\n",
       "      <td>259200</td>\n",
       "      <td>2018-06-11 15:06:26</td>\n",
       "      <td>245524.0</td>\n",
       "    </tr>\n",
       "    <tr>\n",
       "      <th>193</th>\n",
       "      <td>BlockedJob</td>\n",
       "      <td>2018-06-14 11:18:30</td>\n",
       "      <td>20840638</td>\n",
       "      <td>vsc31179</td>\n",
       "      <td>BatchHold</td>\n",
       "      <td>20</td>\n",
       "      <td>259200</td>\n",
       "      <td>2018-06-11 15:08:05</td>\n",
       "      <td>245425.0</td>\n",
       "    </tr>\n",
       "    <tr>\n",
       "      <th>194</th>\n",
       "      <td>BlockedJob</td>\n",
       "      <td>2018-06-14 11:18:30</td>\n",
       "      <td>20832595</td>\n",
       "      <td>vsc30957</td>\n",
       "      <td>NotQueued</td>\n",
       "      <td>20</td>\n",
       "      <td>1800000</td>\n",
       "      <td>2018-05-30 16:57:52</td>\n",
       "      <td>1275638.0</td>\n",
       "    </tr>\n",
       "    <tr>\n",
       "      <th>195</th>\n",
       "      <td>BlockedJob</td>\n",
       "      <td>2018-06-14 11:18:30</td>\n",
       "      <td>20832596</td>\n",
       "      <td>vsc30957</td>\n",
       "      <td>NotQueued</td>\n",
       "      <td>20</td>\n",
       "      <td>1800000</td>\n",
       "      <td>2018-05-30 16:57:55</td>\n",
       "      <td>1275635.0</td>\n",
       "    </tr>\n",
       "    <tr>\n",
       "      <th>196</th>\n",
       "      <td>BlockedJob</td>\n",
       "      <td>2018-06-14 11:18:30</td>\n",
       "      <td>20832597</td>\n",
       "      <td>vsc30957</td>\n",
       "      <td>NotQueued</td>\n",
       "      <td>20</td>\n",
       "      <td>1800000</td>\n",
       "      <td>2018-05-30 16:57:57</td>\n",
       "      <td>1275633.0</td>\n",
       "    </tr>\n",
       "  </tbody>\n",
       "</table>\n",
       "</div>"
      ],
      "text/plain": [
       "       category          time_stamp    job_id   user_id      state  procs  \\\n",
       "192  BlockedJob 2018-06-14 11:18:30  20840637  vsc31179  BatchHold     20   \n",
       "193  BlockedJob 2018-06-14 11:18:30  20840638  vsc31179  BatchHold     20   \n",
       "194  BlockedJob 2018-06-14 11:18:30  20832595  vsc30957  NotQueued     20   \n",
       "195  BlockedJob 2018-06-14 11:18:30  20832596  vsc30957  NotQueued     20   \n",
       "196  BlockedJob 2018-06-14 11:18:30  20832597  vsc30957  NotQueued     20   \n",
       "\n",
       "     walltime_limit          queue_time  time_in_queue  \n",
       "192          259200 2018-06-11 15:06:26       245524.0  \n",
       "193          259200 2018-06-11 15:08:05       245425.0  \n",
       "194         1800000 2018-05-30 16:57:52      1275638.0  \n",
       "195         1800000 2018-05-30 16:57:55      1275635.0  \n",
       "196         1800000 2018-05-30 16:57:57      1275633.0  "
      ]
     },
     "execution_count": 18,
     "metadata": {},
     "output_type": "execute_result"
    }
   ],
   "source": [
    "prev_inactive_df.tail()"
   ]
  },
  {
   "cell_type": "code",
   "execution_count": 19,
   "metadata": {},
   "outputs": [
    {
     "name": "stdout",
     "output_type": "stream",
     "text": [
      "<class 'pandas.core.frame.DataFrame'>\n",
      "Int64Index: 80 entries, 329 to 408\n",
      "Data columns (total 9 columns):\n",
      "category          80 non-null object\n",
      "time_stamp        80 non-null datetime64[ns]\n",
      "job_id            80 non-null object\n",
      "user_id           80 non-null object\n",
      "state             80 non-null object\n",
      "procs             80 non-null int64\n",
      "walltime_limit    80 non-null int64\n",
      "queue_time        80 non-null datetime64[ns]\n",
      "time_in_queue     80 non-null float64\n",
      "dtypes: datetime64[ns](2), float64(1), int64(2), object(4)\n",
      "memory usage: 6.2+ KB\n"
     ]
    }
   ],
   "source": [
    "prev_blocked_df.info()"
   ]
  }
 ],
 "metadata": {
  "kernelspec": {
   "display_name": "Python 3",
   "language": "python",
   "name": "python3"
  },
  "language_info": {
   "codemirror_mode": {
    "name": "ipython",
    "version": 3
   },
   "file_extension": ".py",
   "mimetype": "text/x-python",
   "name": "python",
   "nbconvert_exporter": "python",
   "pygments_lexer": "ipython3",
   "version": "3.6.5"
  }
 },
 "nbformat": 4,
 "nbformat_minor": 2
}
